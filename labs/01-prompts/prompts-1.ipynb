{
 "cells": [
  {
   "cell_type": "code",
   "execution_count": null,
   "metadata": {},
   "outputs": [
    {
     "name": "stdout",
     "output_type": "stream",
     "text": [
      "Hello! How can I assist you today?\n"
     ]
    }
   ],
   "source": [
    "content = 'Hello World'\n",
    "\n",
    "multiline_content = 'This is a multiline string. \\\n",
    "It can span multiple lines and contain line breaks.'\n",
    "\n",
    "response = requests.post(url, headers={\"api-key\": API_KEY}, json={\"messages\":[{\"role\": \"assistant\", \"content\": content}]})\n",
    "\n",
    "data = response.json()\n",
    "\n",
    "print(data['choices'][0]['message']['content'])"
   ]
  },
  {
   "cell_type": "markdown",
   "metadata": {},
   "source": [
    "\n",
    "\n",
    "## Exercise 1 - German Translation\n",
    "\n",
    "* Exercise: Write a prompt that generates the expected completion\n",
    "* Input text: `I was enjoying the sun, but then a huge cloud came and covered the sky.`\n",
    "* Expected completion: `Ich genoss die Sonne, aber dann kam eine riesige Wolke und bedeckte den Himmel.`\n",
    "\n",
    "## Exercise 2 - Classification\n",
    "\n",
    "* Exercise: Write a prompt that generates the expected completion\n",
    "* Input text: `Not much to write about here, but it does exactly what it's supposed to. filters out the pop sounds. now my recordings are much more crisp. it is one of the lowest prices pop filters on amazon so might as well buy it, they honestly work the same despite their pricing.`\n",
    "* Expected completion (or similar):\n",
    "  ``` \n",
    "  Positive: 0.75\n",
    "  Neutral: 0.20\n",
    "  Negative: 0.05\n",
    "  ```\n",
    "\n",
    "## Exercise 3 - Multiple Tasks\n",
    "\n",
    "* Exercise: Write a prompt that generates the expected completion\n",
    "* Input text: `I was enjoying the sun, but then a huge cloud came and covered the sky.`\n",
    "* Expected completion:\n",
    "  ```\n",
    "  {\n",
    "      \"translated\": \"Ich genoss die Sonne, aber dann kam eine riesige Wolke und bedeckte den Himmel.\",\n",
    "      \"negated\": \"I was not enjoying the sun, and no huge cloud came and covered the sky.\",\n",
    "      \"third_person\": \"She was enjoying the sun, but then a huge cloud came and covered the sky.\"\n",
    "  }\n",
    "  ```\n",
    "\n",
    "## Exercise 4 - Fashion product description\n",
    "\n",
    "* Exercise: Write a prompt that generates the expected completion\n",
    "* Input text:\n",
    "  ```\n",
    "  Season: Winter\n",
    "  Style: Sweater\n",
    "  Gender: Female\n",
    "  Target group: Teenager\n",
    "  Material: Cotton\n",
    "  ```\n",
    "* Expected completion (or similar):\n",
    "  ```\n",
    "  Stay warm and stylish this winter with our cozy cotton sweaters, perfect for the fashion-forward teenager. Refresh your wardrobe with the latest winter styles from our collection.\n",
    "  ```"
   ]
  },
  {
   "cell_type": "markdown",
   "metadata": {},
   "source": [
    "## Summary\n",
    "\n",
    "In this lab, we used the Azure OpenAI API directly to query information about our instance of the Azure OpenAI service and to send a prompt to an OpenAI model."
   ]
  },
  {
   "cell_type": "markdown",
   "metadata": {},
   "source": [
    "## Next Section\n",
    "\n",
    "📣 [OpenAI Packages/Libraries](../02-OpenAIPackages/openai.ipynb)"
   ]
  }
 ],
 "metadata": {
  "kernelspec": {
   "display_name": "Python 3",
   "language": "python",
   "name": "python3"
  },
  "language_info": {
   "name": "python",
   "version": "3.11.5"
  },
  "orig_nbformat": 4
 },
 "nbformat": 4,
 "nbformat_minor": 2
}
