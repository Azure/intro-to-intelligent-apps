{
 "cells": [
  {
   "attachments": {},
   "cell_type": "markdown",
   "metadata": {},
   "source": [
    "# 04 - AI Orchestration with Azure AI Search\n",
    "**(Semantic Kernel / C# version)**\n",
    "\n",
    "In this lab, we will do a deeper dive into using Azure AI Search as a vector store, the different search methods it supports and how you can use it as part of the Retrieval Augmented Generation (RAG) pattern for working with large language models."
   ]
  },
  {
   "cell_type": "markdown",
   "metadata": {},
   "source": [
    "## Create an Azure AI Search Vector Store in Azure\n",
    "\n",
    "First, we will create an Azure AI Search service in Azure. We'll use the Azure CLI to do this, so you'll need to cut and paste the following commands into a terminal window.\n",
    "\n",
    "**NOTE:** Before running the commands, replace the **`<INITIALS>`** with your own initials or some random characters, as we need to provide a unique name for the Azure AI Search service."
   ]
  },
  {
   "cell_type": "code",
   "execution_count": null,
   "metadata": {
    "dotnet_interactive": {
     "language": "csharp"
    },
    "polyglot_notebook": {
     "kernelName": "csharp"
    },
    "vscode": {
     "languageId": "polyglot-notebook"
    }
   },
   "outputs": [],
   "source": [
    "// Execute the following commands using the Azure CLI to create the Azure AI Search resource in Azure.\n",
    "\n",
    "RESOURCE_GROUP=\"azure-ai-search-rg\"\n",
    "LOCATION=\"westeurope\"\n",
    "NAME=\"ai-vectorstore-<INITIALS>\"\n",
    "az group create --name $RESOURCE_GROUP --location $LOCATION\n",
    "az search service create -g $RESOURCE_GROUP -n $NAME -l $LOCATION --sku Basic --partition-count 1 --replica-count 1"
   ]
  },
  {
   "cell_type": "markdown",
   "metadata": {},
   "source": [
    "Next, we need to find and update the following values in the `.env` file with the Azure AI Search **name**, **endpoint** and **admin key** values, which you can get from the Azure portal. You also need to provide an **index name** value. The index will be created during this lab, so you can use any name you like.\n",
    "\n",
    "```\n",
    "AZURE_AI_SEARCH_SERVICE_NAME = \"<YOUR AZURE AI SEARCH SERVICE NAME - e.g. ai-vectorstore-xyz>\"\n",
    "AZURE_AI_SEARCH_ENDPOINT = \"<YOUR AZURE AI SEARCH ENDPOINT URL - e.g. https://ai-vectorstore-xyz.search.windows.net\"\n",
    "AZURE_AI_SEARCH_INDEX_NAME = \"<YOUR AZURE AI SEARCH INDEX NAME - e.g. ai-search-index>\"\n",
    "AZURE_AI_SEARCH_API_KEY = \"<YOUR AZURE AI SEARCH ADMIN API KEY - e.g. get this value from the Azure portal>\"\n",
    "```"
   ]
  },
  {
   "cell_type": "markdown",
   "metadata": {},
   "source": [
    "## Load the required .NET packages\n",
    "\n",
    "This lab uses C#, so we will need to load the required .NET packages."
   ]
  },
  {
   "cell_type": "code",
   "execution_count": null,
   "metadata": {
    "dotnet_interactive": {
     "language": "csharp"
    },
    "polyglot_notebook": {
     "kernelName": "csharp"
    },
    "vscode": {
     "languageId": "polyglot-notebook"
    }
   },
   "outputs": [],
   "source": [
    "// Add the Packages\n",
    "#r \"nuget: dotenv.net, 3.1.2\"\n",
    "#r \"nuget: Azure.AI.OpenAI, 1.0.0-beta.16\"\n",
    "#r \"nuget: Azure.Identity, 1.11.2\"\n",
    "#r \"nuget: Azure.Search.Documents, 11.5.0-beta.5\""
   ]
  },
  {
   "cell_type": "markdown",
   "metadata": {},
   "source": [
    "## Load environment variable values\n",
    "As with previous labs, we'll use the values from the `.env` file in the root of this repository."
   ]
  },
  {
   "cell_type": "code",
   "execution_count": null,
   "metadata": {
    "dotnet_interactive": {
     "language": "csharp"
    },
    "polyglot_notebook": {
     "kernelName": "csharp"
    },
    "vscode": {
     "languageId": "polyglot-notebook"
    }
   },
   "outputs": [],
   "source": [
    "using System.IO;\n",
    "using dotenv.net;\n",
    "\n",
    "// Read values from .env file\n",
    "var envVars = DotEnv.Fluent()\n",
    "    .WithoutExceptions()\n",
    "    .WithEnvFiles(\"../../../.env\")\n",
    "    .WithTrimValues()\n",
    "    .WithDefaultEncoding()\n",
    "    .WithOverwriteExistingVars()\n",
    "    .WithoutProbeForEnv()\n",
    "    .Read();\n",
    "\n",
    "var azure_openai_api_key = envVars[\"AZURE_OPENAI_API_KEY\"].Replace(\"\\\"\", \"\");\n",
    "var azure_openai_endpoint = envVars[\"AZURE_OPENAI_ENDPOINT\"].Replace(\"\\\"\", \"\");\n",
    "var azure_openai_embedding_deployment_name = envVars[\"AZURE_OPENAI_EMBEDDING_DEPLOYMENT_NAME\"].Replace(\"\\\"\", \"\");\n",
    "var azure_ai_search_name = envVars[\"AZURE_AI_SEARCH_SERVICE_NAME\"].Replace(\"\\\"\", \"\");\n",
    "var azure_ai_search_endpoint = envVars[\"AZURE_AI_SEARCH_ENDPOINT\"].Replace(\"\\\"\", \"\");\n",
    "var azure_ai_search_api_key = envVars[\"AZURE_AI_SEARCH_API_KEY\"].Replace(\"\\\"\", \"\");\n",
    "var azure_ai_search_index_name = envVars[\"AZURE_AI_SEARCH_INDEX_NAME\"].Replace(\"\\\"\", \"\");\n",
    "\n",
    "Console.WriteLine(\"This lab exercise will use the following values:\");\n",
    "Console.WriteLine($\"Azure OpenAI Endpoint: {azure_openai_endpoint}\");\n",
    "Console.WriteLine($\"Azure AI Search: {azure_ai_search_name}\");"
   ]
  },
  {
   "attachments": {},
   "cell_type": "markdown",
   "metadata": {},
   "source": [
    "First, we will load the data from the movies.csv file and then extract a subset to load into the Azure AI Search index. We do this to help avoid the Azure OpenAI embedding limits and long loading times when inserting data into the index."
   ]
  },
  {
   "cell_type": "code",
   "execution_count": null,
   "metadata": {
    "dotnet_interactive": {
     "language": "csharp"
    },
    "polyglot_notebook": {
     "kernelName": "csharp"
    },
    "vscode": {
     "languageId": "polyglot-notebook"
    }
   },
   "outputs": [],
   "source": [
    "using System.IO;\n",
    "\n",
    "string path = @\"./movies.csv\";\n",
    "string[] allMovies;\n",
    "string[] movieSubset;\n",
    "//\n",
    "// Rather than load all 500 movies into Azure AI search, we will use a\n",
    "// smaller subset of movie data to make things quicker. The more movies you load,\n",
    "// the more time it will take for embeddings to be generated.\n",
    "//\n",
    "int movieSubsetCount = 50;\n",
    "try\n",
    "{\n",
    "    if (File.Exists(path))\n",
    "    {\n",
    "        allMovies = File.ReadAllLines(path);\n",
    "        movieSubset = allMovies.Skip(1).Take(movieSubsetCount).ToArray();\n",
    "    }\n",
    "}\n",
    "catch (Exception e)\n",
    "{\n",
    "    Console.WriteLine(\"The process failed: {0}\", e.ToString());\n",
    "}\n",
    "\n",
    "// Write out the results.\n",
    "Console.WriteLine($\"Loaded {movieSubset.Length} movies.\");"
   ]
  },
  {
   "attachments": {},
   "cell_type": "markdown",
   "metadata": {},
   "source": [
    "During this lab, we will need to work with embeddings. We use embeddings to create a vector representation of a piece of text. We will need to create embeddings for the documents we want to store in our Azure AI Search index and also for the queries we want to use to search the index. We will create an Azure OpenAI client to do this."
   ]
  },
  {
   "cell_type": "code",
   "execution_count": null,
   "metadata": {
    "dotnet_interactive": {
     "language": "csharp"
    },
    "polyglot_notebook": {
     "kernelName": "csharp"
    },
    "vscode": {
     "languageId": "polyglot-notebook"
    }
   },
   "outputs": [],
   "source": [
    "using Azure;\n",
    "using Azure.AI.OpenAI;\n",
    "using Azure.Identity;\n",
    "\n",
    "OpenAIClient azureOpenAIClient = new OpenAIClient(new Uri(azure_openai_endpoint),new AzureKeyCredential(azure_openai_api_key));"
   ]
  },
  {
   "cell_type": "markdown",
   "metadata": {},
   "source": [
    "## Create an Azure AI Search index and load movie data\n",
    "\n",
    "Next, we'll step through the process of configuring an Azure AI Search index to store our movie data and then loading the data into the index. "
   ]
  },
  {
   "cell_type": "code",
   "execution_count": null,
   "metadata": {
    "dotnet_interactive": {
     "language": "csharp"
    },
    "polyglot_notebook": {
     "kernelName": "csharp"
    },
    "vscode": {
     "languageId": "polyglot-notebook"
    }
   },
   "outputs": [],
   "source": [
    "using Azure.Search.Documents;\n",
    "using Azure.Search.Documents.Models;\n",
    "using Azure.Search.Documents.Indexes;\n",
    "using Azure.Search.Documents.Indexes.Models;\n",
    "using Microsoft.Extensions.Configuration;\n",
    "\n",
    "// These variables store the names of Azure AI Search profiles and configs that we will use\n",
    "\n",
    "string vectorSearchHnswProfile = \"movies-vector-profile\";\n",
    "string vectorSearchHnswConfig = \"movies-vector-config\";\n",
    "string semanticSearchConfigName = \"movies-semantic-config\";\n",
    "\n",
    "// The OpenAI embeddings model has 1,536 dimensions\n",
    "\n",
    "int modelDimensions = 1536;"
   ]
  },
  {
   "cell_type": "markdown",
   "metadata": {},
   "source": [
    "When configuring an Azure AI Search index, we need to specify the fields we want to store in the index and the data types for each field. These match the fields in the movie data, containing values such as the movie title, genre, year of release and so on.\n",
    "\n",
    "**NOTE:** It is possible just to use Azure AI Search as a vector store only, in which case we probably wouldn't need to define all of the index fields below. However, in this lab, we're also going to demonstrate Hybrid Search, a feature which makes use of both traditional keyword based search in combination with vector search."
   ]
  },
  {
   "cell_type": "code",
   "execution_count": null,
   "metadata": {
    "dotnet_interactive": {
     "language": "csharp"
    },
    "polyglot_notebook": {
     "kernelName": "csharp"
    },
    "vscode": {
     "languageId": "polyglot-notebook"
    }
   },
   "outputs": [],
   "source": [
    "IList<SearchField> fields = new List<SearchField>();\n",
    "fields.Add(new SimpleField(\"id\", SearchFieldDataType.String) { IsKey = true, IsFilterable = true, IsSortable = true });\n",
    "fields.Add(new SearchableField(\"title\", false) { IsFilterable = true, IsSortable = true });\n",
    "fields.Add(new SearchableField(\"overview\", false) { IsFilterable = true, IsSortable = true });\n",
    "fields.Add(new SearchableField(\"genre\", false) { IsFilterable = true, IsSortable = true, IsFacetable = true });\n",
    "fields.Add(new SearchableField(\"tagline\", false) { IsFilterable = true, IsSortable = true });\n",
    "fields.Add(new SearchableField(\"release_date\", false) { IsFilterable = true, IsSortable = true });\n",
    "fields.Add(new SearchableField(\"popularity\", false) { IsFilterable = true, IsSortable = true });\n",
    "fields.Add(new SearchableField(\"vote_average\", false) { IsFilterable = true, IsSortable = true });\n",
    "fields.Add(new SearchableField(\"vote_count\", false) { IsFilterable = true, IsSortable = true });\n",
    "fields.Add(new SearchableField(\"runtime\", false) { IsFilterable = true, IsSortable = true });\n",
    "fields.Add(new SearchableField(\"revenue\", false) { IsFilterable = true, IsSortable = true });\n",
    "fields.Add(new SearchableField(\"original_language\", false) { IsFilterable = true, IsSortable = true });"
   ]
  },
  {
   "cell_type": "markdown",
   "metadata": {},
   "source": [
    "To use Azure AI Search as a vector store, we will need to define a field to hold the vector representaion of the movie data. We indicate to Azure AI Search that this field will contain vector data by providing details of the vector dimensions and a profile. We'll also define the vector search configuration and profile with default values."
   ]
  },
  {
   "cell_type": "code",
   "execution_count": null,
   "metadata": {
    "dotnet_interactive": {
     "language": "csharp"
    },
    "polyglot_notebook": {
     "kernelName": "csharp"
    },
    "vscode": {
     "languageId": "polyglot-notebook"
    }
   },
   "outputs": [],
   "source": [
    "fields.Add(new SearchField(\"vector\", SearchFieldDataType.Collection(SearchFieldDataType.Single))\n",
    "{\n",
    "    IsSearchable = true,\n",
    "    VectorSearchDimensions = modelDimensions,\n",
    "    VectorSearchProfile = vectorSearchHnswProfile,\n",
    "});\n",
    "\n",
    "VectorSearch vectorSearch = new VectorSearch();\n",
    "vectorSearch.Algorithms.Add(new HnswVectorSearchAlgorithmConfiguration(vectorSearchHnswConfig));\n",
    "vectorSearch.Profiles.Add(new VectorSearchProfile(vectorSearchHnswProfile, vectorSearchHnswConfig));"
   ]
  },
  {
   "cell_type": "markdown",
   "metadata": {},
   "source": [
    "We're going to be using Semantic Ranking, a feature of Azure AI Search that improves search results by using language understanding to rerank the search results. We configure Semantic Settings to help the ranking model understand the movie data, by telling it which fields contain the movie title, which fields contain keywords and which fields contain general free text content."
   ]
  },
  {
   "cell_type": "code",
   "execution_count": null,
   "metadata": {
    "dotnet_interactive": {
     "language": "csharp"
    },
    "polyglot_notebook": {
     "kernelName": "csharp"
    },
    "vscode": {
     "languageId": "polyglot-notebook"
    }
   },
   "outputs": [],
   "source": [
    "SemanticSettings semanticSettings = new SemanticSettings();\n",
    "semanticSettings.Configurations.Add(new SemanticConfiguration(semanticSearchConfigName, new PrioritizedFields()\n",
    "{\n",
    "    TitleField = new SemanticField() { FieldName = \"title\" },\n",
    "    KeywordFields = { new SemanticField() { FieldName = \"genre\" } },\n",
    "    ContentFields = { new SemanticField() { FieldName = \"title\" },\n",
    "                      new SemanticField() { FieldName = \"overview\" },\n",
    "                      new SemanticField() { FieldName = \"tagline\" },\n",
    "                      new SemanticField() { FieldName = \"genre\" },\n",
    "                      new SemanticField() { FieldName = \"release_date\" },\n",
    "                      new SemanticField() { FieldName = \"popularity\" },\n",
    "                      new SemanticField() { FieldName = \"vote_average\" },\n",
    "                      new SemanticField() { FieldName = \"vote_count\" },\n",
    "                      new SemanticField() { FieldName = \"runtime\" },\n",
    "                      new SemanticField() { FieldName = \"revenue\" },\n",
    "                      new SemanticField() { FieldName = \"original_language\" }\n",
    "    }\n",
    "}));"
   ]
  },
  {
   "cell_type": "markdown",
   "metadata": {},
   "source": [
    "Finally, we'll go ahead and create the index by creating an instance of the `SearchIndex` class and adding the keyword and vectors fields and the semantic search profile."
   ]
  },
  {
   "cell_type": "code",
   "execution_count": null,
   "metadata": {
    "dotnet_interactive": {
     "language": "csharp"
    },
    "polyglot_notebook": {
     "kernelName": "csharp"
    },
    "vscode": {
     "languageId": "polyglot-notebook"
    }
   },
   "outputs": [],
   "source": [
    "// Setup SearchIndex\n",
    "SearchIndex searchIndex = new SearchIndex(azure_ai_search_index_name);\n",
    "searchIndex.VectorSearch = vectorSearch;\n",
    "searchIndex.SemanticSettings = semanticSettings;\n",
    "searchIndex.Fields = fields;\n",
    "\n",
    "// Create an Azure AI Search index client and create the index.\n",
    "AzureKeyCredential indexCredential = new AzureKeyCredential(azure_ai_search_api_key);\n",
    "SearchIndexClient indexClient = new SearchIndexClient(new Uri(azure_ai_search_endpoint), indexCredential);\n",
    "indexClient.CreateOrUpdateIndex(searchIndex);\n",
    "\n",
    "Console.WriteLine($\"Index {azure_ai_search_index_name} created.\");"
   ]
  },
  {
   "cell_type": "markdown",
   "metadata": {},
   "source": [
    "The index is now ready, so next we need to prepare the movie data to load into the index.\n",
    "\n",
    "**NOTE**: During this phase, we send the data for each movie to an Azure OpenAI embeddings model to create the vector data. This may take some time due to rate limiting in the API."
   ]
  },
  {
   "cell_type": "code",
   "execution_count": null,
   "metadata": {
    "dotnet_interactive": {
     "language": "csharp"
    },
    "polyglot_notebook": {
     "kernelName": "csharp"
    },
    "vscode": {
     "languageId": "polyglot-notebook"
    }
   },
   "outputs": [],
   "source": [
    "using System.Text.RegularExpressions;\n",
    "\n",
    "// Loop through all of the movies and create an array of documents that we can load into the index.\n",
    "List<SearchDocument> movieDocuments = new List<SearchDocument>();\n",
    "for (int i = 0; i < movieSubset.Length; i++) \n",
    "{\n",
    "    // Extract the data for the movie from the CSV file into variables\n",
    "    var values = Regex.Split(movieSubset[i], \",(?=(?:[^\\\"]*\\\"[^\\\"]*\\\")*[^\\\"]*$)\");\n",
    "    var movieId = values[0];\n",
    "    var movieTitle = values[2];\n",
    "    var movieOverview = Regex.Replace(values[8], \"^\\\"|\\\"$\", \"\");\n",
    "    var movieGenre = values[7].Substring(2, values[7].Length - 4);\n",
    "    var movieTagline = Regex.Replace(values[11], \"^\\\"|\\\"$\", \"\");\n",
    "    var movieReleaseDate = values[4];\n",
    "    var movieRuntime = values[10];\n",
    "    var moviePopularity = values[3];\n",
    "    var movieVoteAverage = values[5];\n",
    "    var movieVoteCount = values[6];\n",
    "    var movieRevenue = values[9];\n",
    "    var movieLanguage = values[1];\n",
    "    \n",
    "    // Take the entire set of data for the movie and generate the embeddings\n",
    "    IEnumerable<string> content = new List<string>() { movieSubset[i] };\n",
    "    Response<Embeddings> contentEmbeddings = azureOpenAIClient.GetEmbeddings(new EmbeddingsOptions(azure_openai_embedding_deployment_name, content));\n",
    "\n",
    "    // Add the movie data and embeddings to a search document\n",
    "    SearchDocument document = new SearchDocument();\n",
    "    document.Add(\"id\", movieId.Substring(0, movieId.Length - 2));\n",
    "    document.Add(\"title\", movieTitle);\n",
    "    document.Add(\"overview\", movieOverview);\n",
    "    document.Add(\"genre\", movieGenre);\n",
    "    document.Add(\"tagline\", movieTagline);\n",
    "    document.Add(\"release_date\", movieReleaseDate);\n",
    "    document.Add(\"runtime\", movieRuntime);\n",
    "    document.Add(\"popularity\", moviePopularity);\n",
    "    document.Add(\"vote_average\", movieVoteAverage);\n",
    "    document.Add(\"vote_count\", movieVoteCount);\n",
    "    document.Add(\"revenue\", movieRevenue);\n",
    "    document.Add(\"original_language\", movieLanguage);\n",
    "    document.Add(\"vector\", contentEmbeddings.Value.Data[0].Embedding.ToArray());\n",
    "    movieDocuments.Add(new SearchDocument(document));\n",
    "    Console.WriteLine($\"Movie {movieTitle} added.\");\n",
    "}\n",
    "\n",
    "Console.WriteLine($\"New SearchDocument structure with embeddings created for {movieDocuments.Count} movies.\");"
   ]
  },
  {
   "cell_type": "markdown",
   "metadata": {},
   "source": [
    "We can write out the contents of one of the documents to see what it looks like. You can see that it contains the movie data at the top and then a long array containing the vector data."
   ]
  },
  {
   "cell_type": "code",
   "execution_count": null,
   "metadata": {
    "dotnet_interactive": {
     "language": "csharp"
    },
    "polyglot_notebook": {
     "kernelName": "csharp"
    },
    "vscode": {
     "languageId": "polyglot-notebook"
    }
   },
   "outputs": [],
   "source": [
    "Console.WriteLine(movieDocuments[0]);"
   ]
  },
  {
   "cell_type": "markdown",
   "metadata": {},
   "source": [
    "Now we have the movie data stored in the correct format, so let's load it into the Azure AI Search index we created earlier."
   ]
  },
  {
   "cell_type": "code",
   "execution_count": null,
   "metadata": {
    "dotnet_interactive": {
     "language": "csharp"
    },
    "polyglot_notebook": {
     "kernelName": "csharp"
    },
    "vscode": {
     "languageId": "polyglot-notebook"
    }
   },
   "outputs": [],
   "source": [
    "SearchClient searchIndexClient = indexClient.GetSearchClient(azure_ai_search_index_name);\n",
    "IndexDocumentsOptions options = new IndexDocumentsOptions { ThrowOnAnyError = true };\n",
    "searchIndexClient.IndexDocuments(IndexDocumentsBatch.Upload(movieDocuments), options);\n",
    "\n",
    "Console.WriteLine($\"Successfully loaded {movieDocuments.Count} movies into Azure AI Search index.\");"
   ]
  },
  {
   "cell_type": "markdown",
   "metadata": {},
   "source": [
    "## Vector store searching using Azure AI Search\n",
    "\n",
    "We've loaded the movies into Azure AI Search, so now let's experiment with some of the different types of searches you can perform.\n",
    "\n",
    "First we'll just perform a simple keyword search."
   ]
  },
  {
   "cell_type": "code",
   "execution_count": null,
   "metadata": {
    "dotnet_interactive": {
     "language": "csharp"
    },
    "polyglot_notebook": {
     "kernelName": "csharp"
    },
    "vscode": {
     "languageId": "polyglot-notebook"
    }
   },
   "outputs": [],
   "source": [
    "var query = \"hero\";\n",
    "\n",
    "SearchOptions searchOptions = new SearchOptions\n",
    "{\n",
    "    Size = 5,\n",
    "    Select = { \"title\", \"genre\" },\n",
    "    SearchMode = SearchMode.Any,\n",
    "    QueryType = SearchQueryType.Simple,\n",
    "};\n",
    "\n",
    "SearchResults<SearchDocument> response = searchIndexClient.Search<SearchDocument>(query, searchOptions);\n",
    "Pageable<SearchResult<SearchDocument>> results = response.GetResults();\n",
    "\n",
    "foreach (SearchResult<SearchDocument> result in results)\n",
    "{\n",
    "    Console.WriteLine($\"Movie: {result.Document[\"title\"]}\");\n",
    "    Console.WriteLine($\"Genre: {result.Document[\"genre\"]}\");\n",
    "    Console.WriteLine(\"----------\");\n",
    "};"
   ]
  },
  {
   "cell_type": "markdown",
   "metadata": {},
   "source": [
    "We get some results, but they're not necessarily movies about heroes. It could be that there is some text in the index for these results that relates to the word \"hero\". For example, the description might mention \"heroic deeds\" or something similar.\n",
    "\n",
    "Let's now try the same again, but this time we'll ask a question instead of just searching for a keyword."
   ]
  },
  {
   "cell_type": "code",
   "execution_count": null,
   "metadata": {
    "dotnet_interactive": {
     "language": "csharp"
    },
    "polyglot_notebook": {
     "kernelName": "csharp"
    },
    "vscode": {
     "languageId": "polyglot-notebook"
    }
   },
   "outputs": [],
   "source": [
    "var query = \"What are the best movies about superheroes?\";\n",
    "\n",
    "SearchResults<SearchDocument> response = searchIndexClient.Search<SearchDocument>(query, searchOptions);\n",
    "Pageable<SearchResult<SearchDocument>> results = response.GetResults();\n",
    "\n",
    "foreach (SearchResult<SearchDocument> result in results)\n",
    "{\n",
    "    Console.WriteLine($\"Movie: {result.Document[\"title\"]}\");\n",
    "    Console.WriteLine($\"Genre: {result.Document[\"genre\"]}\");\n",
    "    Console.WriteLine(\"----------\");\n",
    "};"
   ]
  },
  {
   "cell_type": "markdown",
   "metadata": {},
   "source": [
    "As before, you will likely get mixed results. Some of the movies returned could be about heroes, but others may not be. This is because the search is still based on keywords.\n",
    "\n",
    "Next, let's try a vector search."
   ]
  },
  {
   "cell_type": "code",
   "execution_count": null,
   "metadata": {
    "dotnet_interactive": {
     "language": "csharp"
    },
    "polyglot_notebook": {
     "kernelName": "csharp"
    },
    "vscode": {
     "languageId": "polyglot-notebook"
    }
   },
   "outputs": [],
   "source": [
    "var query = \"What are the best movies about superheroes?\";\n",
    "\n",
    "// Convert the query to an embedding\n",
    "float[] queryEmbedding = azureOpenAIClient.GetEmbeddings(new EmbeddingsOptions(azure_openai_embedding_deployment_name, new List<string>() { query })).Value.Data[0].Embedding.ToArray();\n",
    "\n",
    "// This time we will set the search type to Semantic and we'll pass in the embedded version of the query text and parameters to configure the vector search.\n",
    "SearchOptions searchOptions = new SearchOptions\n",
    "{\n",
    "    QueryType = SearchQueryType.Semantic,\n",
    "    SemanticConfigurationName = semanticSearchConfigName,\n",
    "    VectorQueries = { new RawVectorQuery() { Vector = queryEmbedding, KNearestNeighborsCount = 5, Fields = { \"vector\" } } },\n",
    "    Size = 5,\n",
    "    Select = { \"title\", \"genre\" },\n",
    "};\n",
    "\n",
    "// Note the `null` value for the query parameter. This is because we're not sending the query text to Azure AI Search. We're sending the embedded version of the query text instead.\n",
    "SearchResults<SearchDocument> response = searchIndexClient.Search<SearchDocument>(null, searchOptions);\n",
    "Pageable<SearchResult<SearchDocument>> results = response.GetResults();\n",
    "\n",
    "foreach (SearchResult<SearchDocument> result in results)\n",
    "{\n",
    "    Console.WriteLine($\"Movie: {result.Document[\"title\"]}\");\n",
    "    Console.WriteLine($\"Genre: {result.Document[\"genre\"]}\");\n",
    "    Console.WriteLine($\"Score: {result.Score}\");\n",
    "    //Console.WriteLine($\"Reranked Score: {result.RerankerScore}\");\n",
    "    Console.WriteLine(\"----------\");\n",
    "};"
   ]
  },
  {
   "cell_type": "markdown",
   "metadata": {},
   "source": [
    "It's likely that the raw vector search didn't return exactly what you were expecting. You were probably expecting a list of superhero movies, but now we're getting a list of movies that are **similar** to the vector we provided. Some of these may be hero movies, but others may not be. The vector search is returning the nearest neighbours to the vector we provided, so it's possible that at least one of the results is a superhero movie, and the others are similar to that movie in some way.\n",
    "\n",
    "So, both the keyword search and the vector search have their limitations. The keyword search is limited to the keywords in the index, so it's possible that we might miss some movies that are about heroes. The vector search is limited to returning the nearest neighbours to the vector we provide, so it's possible that we might get some movies that are not about heroes.\n",
    "\n",
    "## Hybrid search using Azure AI Search\n",
    "\n",
    "To overcome the limitations of both keyword search and vector search, we can use a combination of both. This is known as Hybrid Search. Let's run the same query again, but this time we'll use Hybrid Search.\n",
    "\n",
    "The only significant difference is that this time we will submit both the original query text and the embedding vector to Azure AI Search. Azure AI Search will then use both the query text and the vector to perform the search and combine the results."
   ]
  },
  {
   "cell_type": "code",
   "execution_count": null,
   "metadata": {
    "dotnet_interactive": {
     "language": "csharp"
    },
    "polyglot_notebook": {
     "kernelName": "csharp"
    },
    "vscode": {
     "languageId": "polyglot-notebook"
    }
   },
   "outputs": [],
   "source": [
    "SearchResults<SearchDocument> response = searchIndexClient.Search<SearchDocument>(query, searchOptions);\n",
    "Pageable<SearchResult<SearchDocument>> results = response.GetResults();\n",
    "\n",
    "foreach (SearchResult<SearchDocument> result in results)\n",
    "{\n",
    "    Console.WriteLine($\"Movie: {result.Document[\"title\"]}\");\n",
    "    Console.WriteLine($\"Genre: {result.Document[\"genre\"]}\");\n",
    "    Console.WriteLine($\"Score: {result.Score}\");\n",
    "    Console.WriteLine($\"Reranked Score: {result.RerankerScore}\");\n",
    "    Console.WriteLine(\"----------\");\n",
    "};"
   ]
  },
  {
   "cell_type": "markdown",
   "metadata": {},
   "source": [
    "Hopefully, you'll now see a much better set of results. Performing a hybrid search has allowed us to combine the benefits of both keyword search and vector search. But also, Azure AI Search performs a further step when using hybrid search. It makes use of a Semantic Ranker to further improve the search results. The Semantic Ranker uses a language understanding model to understand the query text and the documents in the index and then uses this information to rerank the search results. So, after performing the keyword and vector search, Azure AI Search will then use the Semantic Ranker to re-order the search results based on the context of the original query.\n",
    "\n",
    "In the results above, you can see a `Reranked Score`. This is the score that has been calculated by the Semantic Ranker. The `Score` is the score calculated by the keyword and vector search. You'll note that the results are returned in the order determined by the reranked score."
   ]
  },
  {
   "cell_type": "markdown",
   "metadata": {},
   "source": [
    "## Bringing it All Together with Retrieval Augmented Generation (RAG) + Semantic Kernel (SK)\n",
    "\n",
    "Now that we have our Vector Store setup and data loaded, we are now ready to implement the RAG pattern using AI Orchestration. At a high-level, the following steps are required:\n",
    "1. Ask the question\n",
    "2. Create Prompt Template with inputs\n",
    "3. Get Embedding representation of inputted question\n",
    "4. Use embedded version of the question to search Azure AI Search (ie. The Vector Store)\n",
    "5. Inject the results of the search into the Prompt Template & Execute the Prompt to get the completion\n",
    "\n",
    "**NOTE:** Semantic Kernel has a Semantic Memory feature, as well as a separate Kernel Memory project, that both allow you to store and retrieve information from a vector store. These are both currently in preview / experimental states. In the following code, we're implementing the feature using our own code to firstly retrieve results from Azure AI Search, then add those search results to the query we send to Azure OpenAI.\n",
    "\n",
    "First, let's setup the packages and load the values from the `.env` file."
   ]
  },
  {
   "cell_type": "code",
   "execution_count": null,
   "metadata": {
    "dotnet_interactive": {
     "language": "csharp"
    },
    "polyglot_notebook": {
     "kernelName": "csharp"
    },
    "vscode": {
     "languageId": "polyglot-notebook"
    }
   },
   "outputs": [],
   "source": [
    "// Add the Packages\n",
    "#r \"nuget: dotenv.net, 3.1.2\"\n",
    "#r \"nuget: Microsoft.SemanticKernel, 1.10.0\"\n",
    "#r \"nuget: Microsoft.SemanticKernel.Connectors.OpenAI, 1.10.0\"\n",
    "#r \"nuget: Azure.AI.OpenAI, 1.0.0-beta.16\"\n",
    "#r \"nuget: Azure.Identity, 1.11.2\"\n",
    "#r \"nuget: Azure.Search.Documents, 11.5.0-beta.5\"\n",
    "#r \"nuget: Microsoft.Extensions.Logging, 7.0.0\"\n",
    "#r \"nuget: Microsoft.Extensions.Logging.Console, 7.0.0\"\n",
    "\n",
    "using System.IO;\n",
    "using dotenv.net;\n",
    "using Microsoft.SemanticKernel;\n",
    "using Microsoft.SemanticKernel.Connectors.OpenAI;\n",
    "using Azure;\n",
    "using Azure.AI.OpenAI;\n",
    "using Azure.Identity;\n",
    "using Azure.Search.Documents;\n",
    "using Azure.Search.Documents.Models;\n",
    "using Azure.Search.Documents.Indexes;\n",
    "using Azure.Search.Documents.Indexes.Models;\n",
    "using Microsoft.Extensions.Configuration;\n",
    "\n",
    "// Read values from .env file\n",
    "var envVars = DotEnv.Fluent()\n",
    "    .WithoutExceptions()\n",
    "    .WithEnvFiles(\"../../../.env\")\n",
    "    .WithTrimValues()\n",
    "    .WithDefaultEncoding()\n",
    "    .WithOverwriteExistingVars()\n",
    "    .WithoutProbeForEnv()\n",
    "    .Read();\n",
    "\n",
    "var azure_openai_api_key = envVars[\"AZURE_OPENAI_API_KEY\"].Replace(\"\\\"\", \"\");\n",
    "var azure_openai_endpoint = envVars[\"AZURE_OPENAI_ENDPOINT\"].Replace(\"\\\"\", \"\");\n",
    "var azure_openai_completion_deployment_name = envVars[\"AZURE_OPENAI_COMPLETION_DEPLOYMENT_NAME\"].Replace(\"\\\"\", \"\");\n",
    "var azure_openai_embedding_deployment_name = envVars[\"AZURE_OPENAI_EMBEDDING_DEPLOYMENT_NAME\"].Replace(\"\\\"\", \"\");\n",
    "var azure_ai_search_name = envVars[\"AZURE_AI_SEARCH_SERVICE_NAME\"].Replace(\"\\\"\", \"\");\n",
    "var azure_ai_search_endpoint = envVars[\"AZURE_AI_SEARCH_ENDPOINT\"].Replace(\"\\\"\", \"\");\n",
    "var azure_ai_search_api_key = envVars[\"AZURE_AI_SEARCH_API_KEY\"].Replace(\"\\\"\", \"\");\n",
    "var azure_ai_search_index_name = envVars[\"AZURE_AI_SEARCH_INDEX_NAME\"].Replace(\"\\\"\", \"\");\n",
    "\n",
    "Console.WriteLine(\"This lab exercise will use the following values:\");\n",
    "Console.WriteLine($\"Azure OpenAI Endpoint: {azure_openai_endpoint}\");\n",
    "Console.WriteLine($\"Azure AI Search: {azure_ai_search_name}\");"
   ]
  },
  {
   "cell_type": "markdown",
   "metadata": {},
   "source": [
    "We'll setup Semantic Kernel with an Azure OpenAI service."
   ]
  },
  {
   "cell_type": "code",
   "execution_count": null,
   "metadata": {
    "dotnet_interactive": {
     "language": "csharp"
    },
    "polyglot_notebook": {
     "kernelName": "csharp"
    },
    "vscode": {
     "languageId": "polyglot-notebook"
    }
   },
   "outputs": [],
   "source": [
    "var builder = Kernel.CreateBuilder();\n",
    "builder.Services.AddAzureOpenAIChatCompletion(azure_openai_completion_deployment_name, azure_openai_endpoint, azure_openai_api_key);\n",
    "var kernel = builder.Build();"
   ]
  },
  {
   "cell_type": "markdown",
   "metadata": {},
   "source": [
    "Now we need to define a prompt template. In this template, we'll give the model the `System` instructions telling it to answer the users question using only the data provided. We'll then inject the search results that we'll later get from Azure AI Search into the `searchResults` variable. The `User` instructions will be the question that the user asks."
   ]
  },
  {
   "cell_type": "code",
   "execution_count": null,
   "metadata": {
    "dotnet_interactive": {
     "language": "csharp"
    },
    "polyglot_notebook": {
     "kernelName": "csharp"
    },
    "vscode": {
     "languageId": "polyglot-notebook"
    }
   },
   "outputs": [],
   "source": [
    "var askQuery = kernel.CreateFunctionFromPrompt(\n",
    "    new PromptTemplateConfig()\n",
    "    {\n",
    "        Name = \"askQuery\",\n",
    "        Description = \"Ask Azure OpenAI a question using results from Azure AI Search.\",\n",
    "        Template = @\"System: Answer the user's question using only the movie data below. Do not use any other data. Provide detailed information about the synopsis of the movie. {{$searchResults}}\n",
    "        User: {{$originalQuestion}}\n",
    "        Assistant: \",\n",
    "        TemplateFormat = \"semantic-kernel\",\n",
    "        InputVariables = [\n",
    "            new() { Name = \"originalQuestion\", Description = \"The query we sent to Azure AI Search.\", IsRequired = true },\n",
    "            new() { Name = \"searchResults\", Description = \"The results retrieved from Azure AI Search.\", IsRequired = true }\n",
    "        ],\n",
    "        ExecutionSettings = {\n",
    "            { \"default\", new OpenAIPromptExecutionSettings() {\n",
    "                MaxTokens = 1000,\n",
    "                Temperature = 0.1,\n",
    "                TopP = 0.5,\n",
    "                PresencePenalty = 0.0,\n",
    "                FrequencyPenalty = 0.0\n",
    "            } }\n",
    "        }\n",
    "    }\n",
    ");"
   ]
  },
  {
   "cell_type": "markdown",
   "metadata": {},
   "source": [
    "Next we define our question and send the question to an embedding model to generate the vector representation of the question."
   ]
  },
  {
   "cell_type": "code",
   "execution_count": null,
   "metadata": {
    "dotnet_interactive": {
     "language": "csharp"
    },
    "polyglot_notebook": {
     "kernelName": "csharp"
    },
    "vscode": {
     "languageId": "polyglot-notebook"
    }
   },
   "outputs": [],
   "source": [
    "var query = \"What are the best movies about superheroes?\";\n",
    "\n",
    "OpenAIClient azureOpenAIClient = new OpenAIClient(new Uri(azure_openai_endpoint),new AzureKeyCredential(azure_openai_api_key));\n",
    "float[] queryEmbedding = azureOpenAIClient.GetEmbeddings(new EmbeddingsOptions(azure_openai_embedding_deployment_name, new List<string>() { query })).Value.Data[0].Embedding.ToArray();"
   ]
  },
  {
   "cell_type": "markdown",
   "metadata": {},
   "source": [
    "Let's prepare the `SearchOptions` to carry out a vector search."
   ]
  },
  {
   "cell_type": "code",
   "execution_count": null,
   "metadata": {
    "dotnet_interactive": {
     "language": "csharp"
    },
    "polyglot_notebook": {
     "kernelName": "csharp"
    },
    "vscode": {
     "languageId": "polyglot-notebook"
    }
   },
   "outputs": [],
   "source": [
    "string semanticSearchConfigName = \"movies-semantic-config\";\n",
    "\n",
    "SearchOptions searchOptions = new SearchOptions\n",
    "{\n",
    "    QueryType = SearchQueryType.Semantic,\n",
    "    SemanticConfigurationName = semanticSearchConfigName,\n",
    "    VectorQueries = { new RawVectorQuery() { Vector = queryEmbedding, KNearestNeighborsCount = 5, Fields = { \"vector\" } } },\n",
    "    Size = 5,\n",
    "    Select = { \"title\", \"genre\" },\n",
    "};"
   ]
  },
  {
   "cell_type": "markdown",
   "metadata": {},
   "source": [
    "Now we can go ahead and perform the search. As noted previously, we'll provide both the original question text and the vector representation of the text in order to perform a hybrid search with semantic ranking."
   ]
  },
  {
   "cell_type": "code",
   "execution_count": null,
   "metadata": {
    "dotnet_interactive": {
     "language": "csharp"
    },
    "polyglot_notebook": {
     "kernelName": "csharp"
    },
    "vscode": {
     "languageId": "polyglot-notebook"
    }
   },
   "outputs": [],
   "source": [
    "AzureKeyCredential indexCredential = new AzureKeyCredential(azure_ai_search_api_key);\n",
    "SearchIndexClient indexClient = new SearchIndexClient(new Uri(azure_ai_search_endpoint), indexCredential);\n",
    "SearchClient searchClient = indexClient.GetSearchClient(azure_ai_search_index_name);\n",
    "\n",
    "//Perform the search\n",
    "SearchResults<SearchDocument> response = searchClient.Search<SearchDocument>(query, searchOptions);\n",
    "Pageable<SearchResult<SearchDocument>> results = response.GetResults();"
   ]
  },
  {
   "cell_type": "markdown",
   "metadata": {},
   "source": [
    "The results of the search are now in the `results` variable. We'll iterate through them and turn them into a string that we can inject into the prompt template. When finished, we display these results so that you can see what is going to be injected into the template."
   ]
  },
  {
   "cell_type": "code",
   "execution_count": null,
   "metadata": {
    "dotnet_interactive": {
     "language": "csharp"
    },
    "polyglot_notebook": {
     "kernelName": "csharp"
    },
    "vscode": {
     "languageId": "polyglot-notebook"
    }
   },
   "outputs": [],
   "source": [
    "StringBuilder stringBuilderResults = new StringBuilder();\n",
    "foreach (SearchResult<SearchDocument> result in results)\n",
    "{\n",
    "    stringBuilderResults.AppendLine($\"{result.Document[\"title\"]}\");\n",
    "};\n",
    "\n",
    "Console.WriteLine(stringBuilderResults.ToString());"
   ]
  },
  {
   "cell_type": "markdown",
   "metadata": {},
   "source": [
    "Finally, we can inject the search results into the prompt template and execute the prompt to get the completion."
   ]
  },
  {
   "cell_type": "code",
   "execution_count": null,
   "metadata": {
    "dotnet_interactive": {
     "language": "csharp"
    },
    "polyglot_notebook": {
     "kernelName": "csharp"
    },
    "vscode": {
     "languageId": "polyglot-notebook"
    }
   },
   "outputs": [],
   "source": [
    "var completion = await kernel.InvokeAsync(askQuery, new () { { \"originalQuestion\", query }, { \"searchResults\", stringBuilderResults.ToString() }});\n",
    "\n",
    "Console.WriteLine(completion);"
   ]
  },
  {
   "cell_type": "markdown",
   "metadata": {},
   "source": [
    "## Next Section\n",
    "\n",
    "📣 [Deploy AI](../../04-deploy-ai/README.md)"
   ]
  }
 ],
 "metadata": {
  "kernelspec": {
   "display_name": ".NET (C#)",
   "language": "C#",
   "name": ".net-csharp"
  },
  "language_info": {
   "codemirror_mode": {
    "name": "ipython",
    "version": 3
   },
   "file_extension": ".py",
   "mimetype": "text/x-python",
   "name": "python",
   "nbconvert_exporter": "python",
   "pygments_lexer": "ipython3",
   "version": "3.11.6"
  },
  "orig_nbformat": 4,
  "polyglot_notebook": {
   "kernelInfo": {
    "defaultKernelName": "csharp",
    "items": [
     {
      "aliases": [],
      "name": "csharp"
     }
    ]
   }
  }
 },
 "nbformat": 4,
 "nbformat_minor": 2
}
